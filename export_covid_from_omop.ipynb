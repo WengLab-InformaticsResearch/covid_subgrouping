{
 "cells": [
  {
   "cell_type": "markdown",
   "metadata": {},
   "source": [
    "# Export COVID-19 cohort from OMOP\n",
    "This notebook exports COVID-19 patient data from an OMOP database in patient medical coding sequence format.\n",
    "\n",
    "### Notes\n",
    "1. Update sql_config for the proper connection and desired database\n",
    "2. Update data_dir as the desired output data directory \n",
    "3. Create the COVID cohorts with SQL queries\n",
    "   1. COVID_inpatient_cohort.sql\n",
    "   2. Update the COVID cohort table name in queries, e.g., `covid19_table_name`  \n",
    "4. Run"
   ]
  },
  {
   "cell_type": "code",
   "execution_count": null,
   "metadata": {},
   "outputs": [],
   "source": [
    "import pyodbc\n",
    "import getpass\n",
    "import pandas as pd\n",
    "from os import path\n",
    "from matplotlib import pyplot as plt\n",
    "import time\n",
    "import concurrent.futures"
   ]
  },
  {
   "cell_type": "code",
   "execution_count": null,
   "metadata": {},
   "outputs": [],
   "source": [
    "dir_data = '/path/to/data/dir'\n",
    "file_concepts = path.join(dir_data, 'concepts.csv')\n",
    "file_persons = path.join(dir_data, 'persons_covid19.csv')\n",
    "file_events = path.join(dir_data, 'events_covid19.csv')\n",
    "\n",
    "# SQL server config\n",
    "sql_config = {\n",
    "    'driver': 'ODBC Driver 17 for SQL Server',\n",
    "    'server': 'sql.server.host',\n",
    "    'database': 'database_name',\n",
    "    'uid': 'user_name'\n",
    "}"
   ]
  },
  {
   "cell_type": "code",
   "execution_count": null,
   "metadata": {},
   "outputs": [],
   "source": [
    "pwd=getpass.getpass()"
   ]
  },
  {
   "cell_type": "code",
   "execution_count": null,
   "metadata": {},
   "outputs": [],
   "source": [
    "conn = pyodbc.connect(**sql_config, pwd=pwd)\n",
    "cursor = conn.cursor()"
   ]
  },
  {
   "cell_type": "markdown",
   "metadata": {},
   "source": [
    "# Get patient data"
   ]
  },
  {
   "cell_type": "markdown",
   "metadata": {},
   "source": [
    "### Patient data extraction without data cleaning (default)"
   ]
  },
  {
   "cell_type": "code",
   "execution_count": null,
   "metadata": {},
   "outputs": [],
   "source": [
    "sql = \"\"\"SELECT p.person_id, gender_concept_id, CONVERT(DATE, birth_datetime) AS birth_date, race_concept_id, ethnicity_concept_id \n",
    "    FROM \n",
    "        (SELECT DISTINCT person_id\n",
    "        FROM covid19_table_name) r\n",
    "    JOIN person p ON r.person_id = p.person_id\"\"\"\n",
    "df_persons = pd.read_sql(sql, conn)\n",
    "df_persons.to_csv(file_persons, sep='\\t', na_rep='NULL', header=True, index=False)\n",
    "n_persons = len(df_persons.index)"
   ]
  },
  {
   "cell_type": "markdown",
   "metadata": {},
   "source": [
    "## Get sequence for each patient"
   ]
  },
  {
   "cell_type": "code",
   "execution_count": null,
   "metadata": {},
   "outputs": [],
   "source": [
    "def process_patient(row):\n",
    "    sql = \"\"\"SELECT x.start_date, STRING_AGG(x.concept_id, ',') AS concept_ids\n",
    "    FROM \n",
    "        (\n",
    "        (SELECT co.condition_concept_id AS concept_id, co.condition_start_date AS start_date\n",
    "        FROM dbo.condition_occurrence co\n",
    "        JOIN concept c ON co.condition_concept_id = c.concept_id\n",
    "        JOIN visit_occurrence v ON co.visit_occurrence_id = v.visit_occurrence_id\n",
    "        WHERE co.person_id = ? AND co.condition_concept_id != 0 \n",
    "            AND co.condition_start_date >= ? AND c.domain_id = 'Condition' \n",
    "            AND (DATEDIFF(DAY, co.condition_start_date, v.visit_start_date) <= 7\n",
    "                AND (v.visit_end_date IS NULL OR \n",
    "                    DATEDIFF(DAY, co.condition_start_date, v.visit_end_date) >= -7))\n",
    "        GROUP BY co.condition_concept_id, co.condition_start_date)\n",
    "        UNION ALL\n",
    "        (SELECT do.drug_concept_id AS concept_id, do.drug_exposure_start_date AS start_date\n",
    "        FROM dbo.drug_exposure do\n",
    "        JOIN concept c ON do.drug_concept_id = c.concept_id\n",
    "        JOIN visit_occurrence v ON do.visit_occurrence_id = v.visit_occurrence_id\n",
    "        WHERE do.person_id = ? AND do.drug_concept_id != 0\n",
    "            AND do.drug_exposure_start_date >= ? AND c.domain_id = 'Drug' \n",
    "            AND (DATEDIFF(DAY, do.drug_exposure_start_date, v.visit_start_date) <= 7\n",
    "                -- no upper bound on drug exposure start date\n",
    "                )\n",
    "        GROUP BY do.drug_concept_id, do.drug_exposure_start_date)\n",
    "        UNION ALL\n",
    "        (SELECT po.procedure_concept_id AS concept_id, po.procedure_date AS start_date\n",
    "        FROM dbo.procedure_occurrence po\n",
    "        JOIN concept c ON po.procedure_concept_id = c.concept_id\n",
    "        JOIN visit_occurrence v ON po.visit_occurrence_id = v.visit_occurrence_id\n",
    "        WHERE po.person_id = ? AND po.procedure_concept_id != 0\n",
    "            AND po.procedure_date >= ? AND c.domain_id = 'Procedure' \n",
    "            AND (DATEDIFF(DAY, po.procedure_date, v.visit_start_date) <= 0\n",
    "                AND (v.visit_end_date IS NULL OR \n",
    "                    DATEDIFF(DAY, po.procedure_date, v.visit_end_date) >= 0))\n",
    "        GROUP BY po.procedure_concept_id, po.procedure_date)\n",
    "        UNION ALL\n",
    "        (SELECT m.measurement_concept_id AS concept_id, m.measurement_date AS start_date\n",
    "        FROM dbo.measurement m\n",
    "        JOIN concept c ON m.measurement_concept_id = c.concept_id\n",
    "        JOIN visit_occurrence v ON m.visit_occurrence_id = v.visit_occurrence_id\n",
    "        WHERE m.person_id = ? AND m.measurement_concept_id != 0\n",
    "            AND m.measurement_date >= ? AND c.domain_id = 'Measurement' \n",
    "            AND (DATEDIFF(DAY, m.measurement_date, v.visit_start_date) <= 7\n",
    "                AND (v.visit_end_date IS NULL OR \n",
    "                    DATEDIFF(DAY, m.measurement_date, v.visit_end_date) >= -7))\n",
    "        GROUP BY m.measurement_concept_id, m.measurement_date)\n",
    "        UNION ALL\n",
    "        -- Get death and encode it a \"Dead\" condition (434489)\n",
    "        (SELECT 434489 AS concept_id, MAX(death_date) AS start_date\n",
    "        FROM dbo.death d   \n",
    "        -- Don't add a \"Dead\" concept if it's already in the condition_occurrence table\n",
    "        LEFT JOIN condition_occurrence co ON d.person_id = co.person_id AND co.condition_concept_id = 434489 \n",
    "        WHERE d.person_id = ? AND death_date >= ? AND co.person_id IS NULL\n",
    "        GROUP BY d.person_id) -- some people have multiple death records\n",
    "        ) x\n",
    "    GROUP BY x.start_date\n",
    "    ORDER BY x.start_date;\n",
    "    \"\"\"    \n",
    "    \n",
    "    pid = row['person_id']\n",
    "    dob = row['birth_date']\n",
    "    \n",
    "    conn = pyodbc.connect(**sql_config, pwd=pwd)\n",
    "    cursor = conn.cursor()\n",
    "    cursor.execute(sql, pid, dob, pid, dob, pid, dob, pid, dob, pid, dob)\n",
    "    res = cursor.fetchall()\n",
    "    cursor.close()\n",
    "    conn.close()\n",
    "        \n",
    "    # Write the sequence if it's not empty\n",
    "    sequence_str = None\n",
    "    if res:           \n",
    "        sequence_str = '\\t'.join([x[0].strftime('%Y-%m-%d') + ':' + str(x[1]) for x in res])\n",
    "        sequence_str = str(pid) + '\\t' + sequence_str + '\\n'\n",
    "    return sequence_str"
   ]
  },
  {
   "cell_type": "code",
   "execution_count": null,
   "metadata": {
    "scrolled": true
   },
   "outputs": [],
   "source": [
    "def write_out_patient_code_sequences(df_persons, n_persons, filename):\n",
    "    t1 = time.time()\n",
    "    \n",
    "    with concurrent.futures.ThreadPoolExecutor(max_workers=4) as executor, \\\n",
    "            open(path.join(dir_data, filename), 'w') as fh:\n",
    "        print('patient sequence progress: ')\n",
    "        \n",
    "        # Write out a header line with the format\n",
    "        fh.write('Tab seperated cells. First cell is person_id. All following cells are YYYY-MM-DD:<concept IDs seperated by commas>\\n')        \n",
    "        count = 0\n",
    "        n_patients = 0\n",
    "        \n",
    "        futures = [executor.submit(process_patient, row) for index, row in df_persons.iterrows()]\n",
    "        for future in concurrent.futures.as_completed(futures):\n",
    "            count += 1\n",
    "            sequence_str = future.result()\n",
    "            if sequence_str is not None:\n",
    "                n_patients += 1\n",
    "                fh.write(sequence_str)\n",
    "\n",
    "            if count % 1000 == 0:\n",
    "                percent = count / n_persons * 100\n",
    "                elapsed_time = (time.time() - t1) / 60\n",
    "                print(f'\\t{percent:.02f}% - {elapsed_time:.01f} min')\n",
    "\n",
    "    elapsed_time = (time.time() - t1) / 60\n",
    "    print(elapsed_time)"
   ]
  },
  {
   "cell_type": "code",
   "execution_count": null,
   "metadata": {},
   "outputs": [],
   "source": [
    "write_out_patient_code_sequences(df_persons, n_persons, 'patient_code_sequences_COVID19.txt')"
   ]
  },
  {
   "cell_type": "markdown",
   "metadata": {},
   "source": [
    "# Get the first event information for each patient"
   ]
  },
  {
   "cell_type": "code",
   "execution_count": null,
   "metadata": {},
   "outputs": [],
   "source": [
    "sql = \"\"\"\n",
    "WITH first_case AS \n",
    "    (SELECT person_id, MIN(event_id) AS event_id\n",
    "    FROM covid19_table_name\n",
    "    GROUP BY person_id)\n",
    "\n",
    "SELECT e.*\n",
    "FROM covid19_table_name e\n",
    "JOIN first_case f ON e.person_id = f.person_id AND e.event_id = f.event_id\n",
    "\"\"\"\n",
    "df_events = pd.read_sql(sql, conn)\n",
    "df_events.to_csv(file_events, sep='\\t', na_rep='NULL', header=True, index=False)"
   ]
  },
  {
   "cell_type": "code",
   "execution_count": null,
   "metadata": {},
   "outputs": [],
   "source": []
  }
 ],
 "metadata": {
  "kernelspec": {
   "display_name": "Python 3",
   "language": "python",
   "name": "python3"
  },
  "language_info": {
   "codemirror_mode": {
    "name": "ipython",
    "version": 3
   },
   "file_extension": ".py",
   "mimetype": "text/x-python",
   "name": "python",
   "nbconvert_exporter": "python",
   "pygments_lexer": "ipython3",
   "version": "3.8.1"
  }
 },
 "nbformat": 4,
 "nbformat_minor": 2
}
